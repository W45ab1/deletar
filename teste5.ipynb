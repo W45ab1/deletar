{
 "cells": [
  {
   "cell_type": "code",
   "execution_count": 1,
   "id": "44373a62-a3a1-43c8-80ce-7fd8d09d6533",
   "metadata": {},
   "outputs": [
    {
     "name": "stdout",
     "output_type": "stream",
     "text": [
      "Hello World\n"
     ]
    }
   ],
   "source": [
    "print(\"Hello World\" )\n"
   ]
  },
  {
   "cell_type": "code",
   "execution_count": null,
   "id": "71cd5d8f-697a-432b-84bf-01a4e7666fec",
   "metadata": {},
   "outputs": [],
   "source": [
    "print(\"pf termux, funciona, fdp\")\n"
   ]
  }
 ],
 "metadata": {
  "kernelspec": {
   "display_name": "Python 3 (ipykernel)",
   "language": "python",
   "name": "python3"
  },
  "language_info": {
   "codemirror_mode": {
    "name": "ipython",
    "version": 3
   },
   "file_extension": ".py",
   "mimetype": "text/x-python",
   "name": "python",
   "nbconvert_exporter": "python",
   "pygments_lexer": "ipython3",
   "version": "3.11.4"
  }
 },
 "nbformat": 4,
 "nbformat_minor": 5
}
